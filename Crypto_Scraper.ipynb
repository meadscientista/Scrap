{
  "nbformat": 4,
  "nbformat_minor": 0,
  "metadata": {
    "colab": {
      "name": "Crypto Scraper.ipynb",
      "provenance": [],
      "collapsed_sections": [
        "P4IiK-c8oNHT",
        "arCp5pzgoZ4Y",
        "l-0Qhq_MySZe"
      ],
      "include_colab_link": true
    },
    "kernelspec": {
      "name": "python3",
      "display_name": "Python 3"
    },
    "language_info": {
      "name": "python"
    }
  },
  "cells": [
    {
      "cell_type": "markdown",
      "metadata": {
        "id": "view-in-github",
        "colab_type": "text"
      },
      "source": [
        "<a href=\"https://colab.research.google.com/github/meadscientista/Scrap/blob/main/Crypto_Scraper.ipynb\" target=\"_parent\"><img src=\"https://colab.research.google.com/assets/colab-badge.svg\" alt=\"Open In Colab\"/></a>"
      ]
    },
    {
      "cell_type": "markdown",
      "metadata": {
        "id": "ckVJCbuoZRHy"
      },
      "source": [
        "#### Imports"
      ]
    },
    {
      "cell_type": "code",
      "metadata": {
        "colab": {
          "base_uri": "https://localhost:8080/"
        },
        "id": "84BRfJFNNcd-",
        "outputId": "52ae43b5-4526-4c4c-b6ae-a7f6199e8af5"
      },
      "source": [
        "!pip install selenium --quiet\n",
        "!pip install ghost.py --quiet\n",
        "!apt-get update --quiet\n",
        "!pip install ipython-autotime --quiet\n",
        "!apt install chromium-chromedriver --quiet\n",
        "!cp /usr/lib/chromium-browser/chromedriver /usr/bin --quiet\n",
        "import sys \n",
        "sys.path.insert(0,'/usr/lib/chromium-browser/chromedriver')\n",
        "from selenium import webdriver\n",
        "import bs4\n",
        "import requests\n",
        "from bs4 import BeautifulSoup\n",
        "import pandas as pd\n",
        "from google.colab import files\n",
        "from zipfile import ZipFile\n",
        "import warnings\n",
        "import re\n",
        "import pandas as pd\n",
        "import time\n",
        "warnings.filterwarnings(\"ignore\", category=DeprecationWarning)\n",
        "%load_ext autotime\n",
        "print('Ready')"
      ],
      "execution_count": null,
      "outputs": [
        {
          "output_type": "stream",
          "name": "stdout",
          "text": [
            "\u001b[K     |████████████████████████████████| 904 kB 32.8 MB/s \n",
            "\u001b[K     |████████████████████████████████| 220 kB 37.1 MB/s \n",
            "\u001b[?25h  Building wheel for ghost.py (setup.py) ... \u001b[?25l\u001b[?25hdone\n",
            "Get:1 http://security.ubuntu.com/ubuntu bionic-security InRelease [88.7 kB]\n",
            "Get:2 https://cloud.r-project.org/bin/linux/ubuntu bionic-cran40/ InRelease [3,626 B]\n",
            "Ign:3 https://developer.download.nvidia.com/compute/cuda/repos/ubuntu1804/x86_64  InRelease\n",
            "Hit:4 http://archive.ubuntu.com/ubuntu bionic InRelease\n",
            "Get:5 http://ppa.launchpad.net/c2d4u.team/c2d4u4.0+/ubuntu bionic InRelease [15.9 kB]\n",
            "Ign:6 https://developer.download.nvidia.com/compute/machine-learning/repos/ubuntu1804/x86_64  InRelease\n",
            "Get:7 http://archive.ubuntu.com/ubuntu bionic-updates InRelease [88.7 kB]\n",
            "Hit:8 https://developer.download.nvidia.com/compute/cuda/repos/ubuntu1804/x86_64  Release\n",
            "Hit:9 https://developer.download.nvidia.com/compute/machine-learning/repos/ubuntu1804/x86_64  Release\n",
            "Hit:10 http://ppa.launchpad.net/cran/libgit2/ubuntu bionic InRelease\n",
            "Get:11 http://archive.ubuntu.com/ubuntu bionic-backports InRelease [74.6 kB]\n",
            "Get:12 http://ppa.launchpad.net/deadsnakes/ppa/ubuntu bionic InRelease [15.9 kB]\n",
            "Get:13 http://security.ubuntu.com/ubuntu bionic-security/universe amd64 Packages [1,431 kB]\n",
            "Get:14 http://security.ubuntu.com/ubuntu bionic-security/main amd64 Packages [2,365 kB]\n",
            "Hit:15 http://ppa.launchpad.net/graphics-drivers/ppa/ubuntu bionic InRelease\n",
            "Get:16 http://ppa.launchpad.net/c2d4u.team/c2d4u4.0+/ubuntu bionic/main Sources [1,802 kB]\n",
            "Get:19 http://ppa.launchpad.net/c2d4u.team/c2d4u4.0+/ubuntu bionic/main amd64 Packages [922 kB]\n",
            "Get:20 http://archive.ubuntu.com/ubuntu bionic-updates/main amd64 Packages [2,801 kB]\n",
            "Get:21 http://archive.ubuntu.com/ubuntu bionic-updates/universe amd64 Packages [2,210 kB]\n",
            "Get:22 http://ppa.launchpad.net/deadsnakes/ppa/ubuntu bionic/main amd64 Packages [40.8 kB]\n",
            "Fetched 11.9 MB in 3s (3,525 kB/s)\n",
            "Reading package lists...\n",
            "Reading package lists...\n",
            "Building dependency tree...\n",
            "Reading state information...\n",
            "The following additional packages will be installed:\n",
            "  chromium-browser chromium-browser-l10n chromium-codecs-ffmpeg-extra\n",
            "Suggested packages:\n",
            "  webaccounts-chromium-extension unity-chromium-extension\n",
            "The following NEW packages will be installed:\n",
            "  chromium-browser chromium-browser-l10n chromium-chromedriver\n",
            "  chromium-codecs-ffmpeg-extra\n",
            "0 upgraded, 4 newly installed, 0 to remove and 39 not upgraded.\n",
            "Need to get 95.4 MB of archives.\n",
            "After this operation, 323 MB of additional disk space will be used.\n",
            "Get:1 http://archive.ubuntu.com/ubuntu bionic-updates/universe amd64 chromium-codecs-ffmpeg-extra amd64 94.0.4606.71-0ubuntu0.18.04.1 [1,136 kB]\n",
            "Get:2 http://archive.ubuntu.com/ubuntu bionic-updates/universe amd64 chromium-browser amd64 94.0.4606.71-0ubuntu0.18.04.1 [85.1 MB]\n",
            "Get:3 http://archive.ubuntu.com/ubuntu bionic-updates/universe amd64 chromium-browser-l10n all 94.0.4606.71-0ubuntu0.18.04.1 [4,161 kB]\n",
            "Get:4 http://archive.ubuntu.com/ubuntu bionic-updates/universe amd64 chromium-chromedriver amd64 94.0.4606.71-0ubuntu0.18.04.1 [4,964 kB]\n",
            "Fetched 95.4 MB in 3s (28.8 MB/s)\n",
            "Selecting previously unselected package chromium-codecs-ffmpeg-extra.\n",
            "(Reading database ... 155047 files and directories currently installed.)\n",
            "Preparing to unpack .../chromium-codecs-ffmpeg-extra_94.0.4606.71-0ubuntu0.18.04.1_amd64.deb ...\n",
            "Unpacking chromium-codecs-ffmpeg-extra (94.0.4606.71-0ubuntu0.18.04.1) ...\n",
            "Selecting previously unselected package chromium-browser.\n",
            "Preparing to unpack .../chromium-browser_94.0.4606.71-0ubuntu0.18.04.1_amd64.deb ...\n",
            "Unpacking chromium-browser (94.0.4606.71-0ubuntu0.18.04.1) ...\n",
            "Selecting previously unselected package chromium-browser-l10n.\n",
            "Preparing to unpack .../chromium-browser-l10n_94.0.4606.71-0ubuntu0.18.04.1_all.deb ...\n",
            "Unpacking chromium-browser-l10n (94.0.4606.71-0ubuntu0.18.04.1) ...\n",
            "Selecting previously unselected package chromium-chromedriver.\n",
            "Preparing to unpack .../chromium-chromedriver_94.0.4606.71-0ubuntu0.18.04.1_amd64.deb ...\n",
            "Unpacking chromium-chromedriver (94.0.4606.71-0ubuntu0.18.04.1) ...\n",
            "Setting up chromium-codecs-ffmpeg-extra (94.0.4606.71-0ubuntu0.18.04.1) ...\n",
            "Setting up chromium-browser (94.0.4606.71-0ubuntu0.18.04.1) ...\n",
            "update-alternatives: using /usr/bin/chromium-browser to provide /usr/bin/x-www-browser (x-www-browser) in auto mode\n",
            "update-alternatives: using /usr/bin/chromium-browser to provide /usr/bin/gnome-www-browser (gnome-www-browser) in auto mode\n",
            "Setting up chromium-chromedriver (94.0.4606.71-0ubuntu0.18.04.1) ...\n",
            "Setting up chromium-browser-l10n (94.0.4606.71-0ubuntu0.18.04.1) ...\n",
            "Processing triggers for man-db (2.8.3-2ubuntu0.1) ...\n",
            "Processing triggers for hicolor-icon-theme (0.17-2) ...\n",
            "Processing triggers for mime-support (3.60ubuntu1) ...\n",
            "Processing triggers for libc-bin (2.27-3ubuntu1.3) ...\n",
            "/sbin/ldconfig.real: /usr/local/lib/python3.7/dist-packages/ideep4py/lib/libmkldnn.so.0 is not a symbolic link\n",
            "\n",
            "cp: unrecognized option '--quiet'\n",
            "Try 'cp --help' for more information.\n",
            "Ready\n",
            "time: 1.39 ms (started: 2021-10-09 14:56:38 +00:00)\n"
          ]
        }
      ]
    },
    {
      "cell_type": "code",
      "metadata": {
        "colab": {
          "base_uri": "https://localhost:8080/"
        },
        "id": "wLK_0mIyNoYD",
        "outputId": "29ba0c49-e1bb-44aa-c8ed-ba90569f6540"
      },
      "source": [
        "from selenium.common.exceptions import TimeoutException\n",
        "from selenium.webdriver.support.ui import WebDriverWait\n",
        "from selenium.webdriver.support import expected_conditions as EC\n",
        "from selenium.webdriver.common.by import By\n",
        "import time\n",
        "chrome_options = webdriver.ChromeOptions() \n",
        "chrome_options.add_argument('--headless')\n",
        "chrome_options.add_argument('--no-sandbox')\n",
        "chrome_options.add_argument('--disable-dev-shm-usage')"
      ],
      "execution_count": null,
      "outputs": [
        {
          "output_type": "stream",
          "name": "stdout",
          "text": [
            "time: 9.26 ms (started: 2021-10-09 15:01:31 +00:00)\n"
          ]
        }
      ]
    },
    {
      "cell_type": "code",
      "metadata": {
        "id": "TM4qznjwOkpW"
      },
      "source": [
        "from selenium import webdriver\n",
        "from webdriver_manager.chrome import ChromeDriverManager\n",
        "\n",
        "driver = webdriver.Chrome(ChromeDriverManager().install())"
      ],
      "execution_count": null,
      "outputs": []
    },
    {
      "cell_type": "markdown",
      "metadata": {
        "id": "P4IiK-c8oNHT"
      },
      "source": [
        "#### Nerve.Fi"
      ]
    },
    {
      "cell_type": "code",
      "metadata": {
        "colab": {
          "base_uri": "https://localhost:8080/"
        },
        "id": "UyVRlQ9bmsBx",
        "outputId": "1ea58c14-f229-49a3-f92f-cd98e6338e0f"
      },
      "source": [
        "from selenium.common.exceptions import TimeoutException\n",
        "from selenium.webdriver.support.ui import WebDriverWait\n",
        "from selenium.webdriver.support import expected_conditions as EC\n",
        "from selenium.webdriver.common.by import By"
      ],
      "execution_count": null,
      "outputs": [
        {
          "output_type": "stream",
          "name": "stdout",
          "text": [
            "time: 2.5 ms (started: 2021-10-09 15:01:47 +00:00)\n"
          ]
        }
      ]
    },
    {
      "cell_type": "code",
      "metadata": {
        "colab": {
          "base_uri": "https://localhost:8080/"
        },
        "id": "Vl1vlhhaPJN8",
        "outputId": "cd5d3d82-4850-40fc-8d74-52d8712daf46"
      },
      "source": [
        "url = \"https://nerve.fi/pools\"\n",
        "\n",
        "driver = webdriver.Chrome('chromedriver',chrome_options=chrome_options)\n",
        "driver.get(url)\n",
        "SCROLL_PAUSE_TIME = 3\n",
        "WebDriverWait(driver, SCROLL_PAUSE_TIME)\n",
        "\n",
        "last_height = driver.execute_script(\"return document.body.scrollHeight\")\n",
        "\n",
        "driver.get_cookies()\n",
        "import time\n",
        "while True:\n",
        "\n",
        "  driver.execute_script(\"window.scrollTo(0, document.body.scrollHeight);\")\n",
        "\n",
        "  time.sleep(SCROLL_PAUSE_TIME)\n",
        "\n",
        "  new_height = driver.execute_script(\"return document.body.scrollHeight\")\n",
        "  if new_height == last_height:\n",
        "      break\n",
        "  last_height = new_height\n",
        "page1 = driver.execute_script('return document.body.innerHTML')\n",
        "soup1 = BeautifulSoup(''.join(page1), 'html.parser')"
      ],
      "execution_count": null,
      "outputs": [
        {
          "output_type": "stream",
          "name": "stdout",
          "text": [
            "time: 5.17 s (started: 2021-10-09 15:01:47 +00:00)\n"
          ]
        }
      ]
    },
    {
      "cell_type": "code",
      "metadata": {
        "colab": {
          "base_uri": "https://localhost:8080/"
        },
        "id": "rWeqVPo2PUhA",
        "outputId": "bc360972-8f6b-416b-903d-d3d6983a38fb"
      },
      "source": [
        "#soup1.prettify()"
      ],
      "execution_count": null,
      "outputs": [
        {
          "output_type": "stream",
          "name": "stdout",
          "text": [
            "time: 1.08 ms (started: 2021-10-09 15:01:52 +00:00)\n"
          ]
        }
      ]
    },
    {
      "cell_type": "code",
      "metadata": {
        "colab": {
          "base_uri": "https://localhost:8080/"
        },
        "id": "a4vzvGdn_2vt",
        "outputId": "e3f8297f-982d-407a-eb4c-2e376924a9a4"
      },
      "source": [
        "text_file = open(\"Soup1.txt\", \"w\")\n",
        "text_file.write(soup1.prettify())\n",
        "text_file.close()"
      ],
      "execution_count": null,
      "outputs": [
        {
          "output_type": "stream",
          "name": "stdout",
          "text": [
            "time: 9.9 ms (started: 2021-10-09 15:01:52 +00:00)\n"
          ]
        }
      ]
    },
    {
      "cell_type": "code",
      "metadata": {
        "colab": {
          "base_uri": "https://localhost:8080/"
        },
        "id": "hgVMX_cS_2tP",
        "outputId": "25d7a8e3-e4dd-42f0-ce51-1305a4e6a86f"
      },
      "source": [
        "web_data=soup1\n",
        "web_data_moded=web_data"
      ],
      "execution_count": null,
      "outputs": [
        {
          "output_type": "stream",
          "name": "stdout",
          "text": [
            "time: 2.04 ms (started: 2021-10-09 15:01:52 +00:00)\n"
          ]
        }
      ]
    },
    {
      "cell_type": "code",
      "metadata": {
        "colab": {
          "base_uri": "https://localhost:8080/"
        },
        "id": "7aqH_5yC_2qa",
        "outputId": "dac8bfdc-e574-4e88-f862-1335e01f1196"
      },
      "source": [
        "pool_name='font-medium text-lg mb-2 undefined'\n",
        "liqu='mt-2.5 text-xl font-medium text-default'\n",
        "fixed='bg-white shadow-lg pt-3 px-6 pb-6 rounded-lg py-4 mt-4 items-center pr-2 shadow'\n",
        "#re.sub('bg-white shadow-lg pt-3 px-6 pb-6 rounded-lg py-4 mt-4 items-center pr-2 shadow(.*?)>', fixed, web_data_moded)\n",
        "remlist=re.findall('bg-white shadow-lg pt-3 px-6 pb-6 rounded-lg py-4 mt-4 items-center pr-2 shadow(.*?)>', str(web_data_moded))"
      ],
      "execution_count": null,
      "outputs": [
        {
          "output_type": "stream",
          "name": "stdout",
          "text": [
            "time: 17.5 ms (started: 2021-10-09 15:01:52 +00:00)\n"
          ]
        }
      ]
    },
    {
      "cell_type": "code",
      "metadata": {
        "colab": {
          "base_uri": "https://localhost:8080/"
        },
        "id": "trws2SkA_2nw",
        "outputId": "fa0752bc-c46b-4565-f86e-75cf4a023413"
      },
      "source": [
        "web_data_moded2=web_data_moded\n",
        "for i in remlist:\n",
        "  web_data_moded2=str(web_data_moded2).replace(i,'\"')\n",
        "web_data_mod=BeautifulSoup(web_data_moded2)\n",
        "main_list=web_data_mod.find_all( \"div\" , class_=fixed)"
      ],
      "execution_count": null,
      "outputs": [
        {
          "output_type": "stream",
          "name": "stdout",
          "text": [
            "time: 33 ms (started: 2021-10-09 15:01:52 +00:00)\n"
          ]
        }
      ]
    },
    {
      "cell_type": "code",
      "metadata": {
        "colab": {
          "base_uri": "https://localhost:8080/"
        },
        "id": "IBxQhIL8_2j_",
        "outputId": "a6c958db-b3b4-41ad-bb56-e5fe0729cab9"
      },
      "source": [
        "\n",
        "\n",
        "main_dict=[]\n",
        "for i in main_list:\n",
        "  record=[]\n",
        "  record.append(i.find( \"div\" , class_=pool_name ).contents[0])\n",
        "  record.append(i.find_all( \"div\" , class_=liqu )[0].contents[0])\n",
        "  record.append(i.find_all( \"div\" , class_=liqu )[1].contents[0])\n",
        "  main_dict.append(record) \n",
        "df = pd.DataFrame(main_dict, columns = ['Pool', 'Total Liquidity','APR'])\n",
        "df.to_csv('Nerve_Fi.csv')"
      ],
      "execution_count": null,
      "outputs": [
        {
          "output_type": "stream",
          "name": "stdout",
          "text": [
            "time: 31.1 ms (started: 2021-10-09 15:01:52 +00:00)\n"
          ]
        }
      ]
    },
    {
      "cell_type": "code",
      "metadata": {
        "colab": {
          "base_uri": "https://localhost:8080/",
          "height": 35
        },
        "id": "58VvuZhb_2hV",
        "outputId": "571a8bbb-9068-4ea0-829c-b41af21febaf"
      },
      "source": [
        "files.download('Nerve_Fi.csv')"
      ],
      "execution_count": null,
      "outputs": [
        {
          "output_type": "display_data",
          "data": {
            "application/javascript": [
              "\n",
              "    async function download(id, filename, size) {\n",
              "      if (!google.colab.kernel.accessAllowed) {\n",
              "        return;\n",
              "      }\n",
              "      const div = document.createElement('div');\n",
              "      const label = document.createElement('label');\n",
              "      label.textContent = `Downloading \"${filename}\": `;\n",
              "      div.appendChild(label);\n",
              "      const progress = document.createElement('progress');\n",
              "      progress.max = size;\n",
              "      div.appendChild(progress);\n",
              "      document.body.appendChild(div);\n",
              "\n",
              "      const buffers = [];\n",
              "      let downloaded = 0;\n",
              "\n",
              "      const channel = await google.colab.kernel.comms.open(id);\n",
              "      // Send a message to notify the kernel that we're ready.\n",
              "      channel.send({})\n",
              "\n",
              "      for await (const message of channel.messages) {\n",
              "        // Send a message to notify the kernel that we're ready.\n",
              "        channel.send({})\n",
              "        if (message.buffers) {\n",
              "          for (const buffer of message.buffers) {\n",
              "            buffers.push(buffer);\n",
              "            downloaded += buffer.byteLength;\n",
              "            progress.value = downloaded;\n",
              "          }\n",
              "        }\n",
              "      }\n",
              "      const blob = new Blob(buffers, {type: 'application/binary'});\n",
              "      const a = document.createElement('a');\n",
              "      a.href = window.URL.createObjectURL(blob);\n",
              "      a.download = filename;\n",
              "      div.appendChild(a);\n",
              "      a.click();\n",
              "      div.remove();\n",
              "    }\n",
              "  "
            ],
            "text/plain": [
              "<IPython.core.display.Javascript object>"
            ]
          },
          "metadata": {}
        },
        {
          "output_type": "display_data",
          "data": {
            "application/javascript": [
              "download(\"download_0633e345-5b3d-4645-9722-c1f3db6f972a\", \"Nerve_Fi.csv\", 323)"
            ],
            "text/plain": [
              "<IPython.core.display.Javascript object>"
            ]
          },
          "metadata": {}
        },
        {
          "output_type": "stream",
          "name": "stdout",
          "text": [
            "time: 10.7 ms (started: 2021-10-09 15:01:53 +00:00)\n"
          ]
        }
      ]
    },
    {
      "cell_type": "code",
      "metadata": {
        "id": "DiO8jp9G_2eq"
      },
      "source": [
        ""
      ],
      "execution_count": null,
      "outputs": []
    },
    {
      "cell_type": "markdown",
      "metadata": {
        "id": "arCp5pzgoZ4Y"
      },
      "source": [
        "#### Sushi Farm"
      ]
    },
    {
      "cell_type": "code",
      "metadata": {
        "colab": {
          "base_uri": "https://localhost:8080/"
        },
        "id": "FTsb9fBsp__y",
        "outputId": "e9e97a00-4181-4147-f583-6dca4fce5f8f"
      },
      "source": [
        "chrome_options.add_argument('--no-sandbox') \n",
        "chrome_options.add_argument('--disable-dev-shm-usage') \n",
        "\n",
        "\n",
        "\n"
      ],
      "execution_count": null,
      "outputs": [
        {
          "output_type": "stream",
          "name": "stdout",
          "text": [
            "time: 4.23 ms (started: 2021-10-09 15:07:47 +00:00)\n"
          ]
        }
      ]
    },
    {
      "cell_type": "code",
      "metadata": {
        "colab": {
          "base_uri": "https://localhost:8080/"
        },
        "id": "knRweqtzomzH",
        "outputId": "d9e960c0-7c1e-40ca-fe70-3a8e916eea2a"
      },
      "source": [
        "url = \"https://app.sushi.com/farm\"\n",
        "SCROLL_PAUSE_TIME = 3\n",
        "driver = webdriver.Chrome('chromedriver',chrome_options=chrome_options)\n",
        "driver.get(url)\n",
        "\n",
        "'''\n",
        "def reload_driver(driver):\n",
        "  driver.close()\n",
        "  driver.quit()\n",
        "  driver = webdriver.Chrome('chromedriver',chrome_options=chrome_options)\n",
        "  driver.get(url)\n",
        "  chrome_options = webdriver.ChromeOptions() \n",
        "  chrome_options.add_argument('--headless')\n",
        "  chrome_options.add_argument('--no-sandbox')\n",
        "  chrome_options.add_argument('--disable-dev-shm-usage')\n",
        "'''\n",
        "\n",
        "time.sleep(10)\n",
        "\n",
        "\n",
        "\n",
        "#last_height = driver.execute_script(\"return document.body.scrollHeight\")\n",
        "last_height= 0\n",
        "'''\n",
        "try:\n",
        "  last_height = driver.execute_script(\"return document.body.scrollHeight\")\n",
        "except:\n",
        "  reload_driver(driver)\n",
        "'''\n",
        "\n",
        "\n",
        "while True:\n",
        "\n",
        "  driver.execute_script(\"window.scrollTo(0, document.body.scrollHeight);\")\n",
        "\n",
        "  time.sleep(SCROLL_PAUSE_TIME)\n",
        "\n",
        "  new_height = driver.execute_script(\"return document.body.scrollHeight\")\n",
        "  if new_height == last_height:\n",
        "      break\n",
        "  last_height = new_height\n",
        "page2 = driver.execute_script('return document.body.innerHTML')\n",
        "soup2 = BeautifulSoup(''.join(page2), 'html.parser')"
      ],
      "execution_count": null,
      "outputs": [
        {
          "output_type": "stream",
          "name": "stdout",
          "text": [
            "time: 3min 14s (started: 2021-10-09 15:09:13 +00:00)\n"
          ]
        }
      ]
    },
    {
      "cell_type": "code",
      "metadata": {
        "id": "a-Fk44y1onwM",
        "colab": {
          "base_uri": "https://localhost:8080/"
        },
        "outputId": "76c7cf57-f848-4870-a7b4-d8514b3379ec"
      },
      "source": [
        "text_file = open(\"Soup2.txt\", \"w\")\n",
        "text_file.write(soup2.prettify())\n",
        "text_file.close()\n",
        "#files.download('Soup2.txt')"
      ],
      "execution_count": null,
      "outputs": [
        {
          "output_type": "stream",
          "name": "stdout",
          "text": [
            "time: 139 ms (started: 2021-10-09 15:14:00 +00:00)\n"
          ]
        }
      ]
    },
    {
      "cell_type": "code",
      "metadata": {
        "colab": {
          "base_uri": "https://localhost:8080/"
        },
        "id": "XTi3OG9gLxPJ",
        "outputId": "7706c650-883e-484c-8b6b-1e9ae3aab704"
      },
      "source": [
        "web_data_sushi=soup2\n",
        "one_rec='w-full px-4 py-6 text-left rounded cursor-pointer select-none bg-dark-900 text-primary text-sm md:text-lg'\n",
        "apr_div='flex flex-row items-center font-bold text-right text-high-emphesis'\n",
        "TVL_div='flex flex-col justify-center font-bold'\n",
        "pool_sushi= 'flex flex-col justify-center'\n"
      ],
      "execution_count": null,
      "outputs": [
        {
          "output_type": "stream",
          "name": "stdout",
          "text": [
            "time: 3.47 ms (started: 2021-10-09 15:14:04 +00:00)\n"
          ]
        }
      ]
    },
    {
      "cell_type": "code",
      "metadata": {
        "colab": {
          "base_uri": "https://localhost:8080/"
        },
        "id": "EWQ3A_2lLxMD",
        "outputId": "841d2992-be6f-4fdd-db51-ec23ffba94a8"
      },
      "source": [
        "main_list_sushi = web_data_sushi.find_all( \"button\" , class_=one_rec)"
      ],
      "execution_count": null,
      "outputs": [
        {
          "output_type": "stream",
          "name": "stdout",
          "text": [
            "time: 59.3 ms (started: 2021-10-09 15:14:06 +00:00)\n"
          ]
        }
      ]
    },
    {
      "cell_type": "code",
      "metadata": {
        "colab": {
          "base_uri": "https://localhost:8080/"
        },
        "id": "UBakj-PDLxIE",
        "outputId": "70ee99b0-2168-4783-fc90-30f7afe15c4e"
      },
      "source": [
        "import pandas as pd\n",
        "\n",
        "main_dict=[]\n",
        "for i in main_list_sushi:\n",
        "  record=[]\n",
        "  lsi=i.find( \"div\" , class_=pool_sushi ).contents[0]\n",
        "  record.append(lsi.contents[0].contents[0]+lsi.contents[1]+lsi.contents[2].contents[0])\n",
        "  record.append(i.find( \"div\" , class_=TVL_div ).contents[0])\n",
        "  record.append(i.find( \"div\" , class_=apr_div ).contents[0])\n",
        "  main_dict.append(record) \n",
        "df = pd.DataFrame(main_dict, columns = ['Pool', 'TVL','APR'])\n",
        "df.to_csv('SushiFarm.csv')"
      ],
      "execution_count": null,
      "outputs": [
        {
          "output_type": "stream",
          "name": "stdout",
          "text": [
            "time: 178 ms (started: 2021-10-09 15:14:08 +00:00)\n"
          ]
        }
      ]
    },
    {
      "cell_type": "code",
      "metadata": {
        "colab": {
          "base_uri": "https://localhost:8080/",
          "height": 35
        },
        "id": "8hynEKVvMA4x",
        "outputId": "0cf9bb32-0dd9-457f-dbfd-a29b48ee81c3"
      },
      "source": [
        "files.download('SushiFarm.csv')"
      ],
      "execution_count": null,
      "outputs": [
        {
          "output_type": "display_data",
          "data": {
            "application/javascript": [
              "\n",
              "    async function download(id, filename, size) {\n",
              "      if (!google.colab.kernel.accessAllowed) {\n",
              "        return;\n",
              "      }\n",
              "      const div = document.createElement('div');\n",
              "      const label = document.createElement('label');\n",
              "      label.textContent = `Downloading \"${filename}\": `;\n",
              "      div.appendChild(label);\n",
              "      const progress = document.createElement('progress');\n",
              "      progress.max = size;\n",
              "      div.appendChild(progress);\n",
              "      document.body.appendChild(div);\n",
              "\n",
              "      const buffers = [];\n",
              "      let downloaded = 0;\n",
              "\n",
              "      const channel = await google.colab.kernel.comms.open(id);\n",
              "      // Send a message to notify the kernel that we're ready.\n",
              "      channel.send({})\n",
              "\n",
              "      for await (const message of channel.messages) {\n",
              "        // Send a message to notify the kernel that we're ready.\n",
              "        channel.send({})\n",
              "        if (message.buffers) {\n",
              "          for (const buffer of message.buffers) {\n",
              "            buffers.push(buffer);\n",
              "            downloaded += buffer.byteLength;\n",
              "            progress.value = downloaded;\n",
              "          }\n",
              "        }\n",
              "      }\n",
              "      const blob = new Blob(buffers, {type: 'application/binary'});\n",
              "      const a = document.createElement('a');\n",
              "      a.href = window.URL.createObjectURL(blob);\n",
              "      a.download = filename;\n",
              "      div.appendChild(a);\n",
              "      a.click();\n",
              "      div.remove();\n",
              "    }\n",
              "  "
            ],
            "text/plain": [
              "<IPython.core.display.Javascript object>"
            ]
          },
          "metadata": {}
        },
        {
          "output_type": "display_data",
          "data": {
            "application/javascript": [
              "download(\"download_6e53866e-e29d-4820-ad7a-4b5a78782ec4\", \"SushiFarm.csv\", 7506)"
            ],
            "text/plain": [
              "<IPython.core.display.Javascript object>"
            ]
          },
          "metadata": {}
        },
        {
          "output_type": "stream",
          "name": "stdout",
          "text": [
            "time: 13.4 ms (started: 2021-10-09 15:14:11 +00:00)\n"
          ]
        }
      ]
    },
    {
      "cell_type": "markdown",
      "metadata": {
        "id": "l-0Qhq_MySZe"
      },
      "source": [
        "#### Adamant"
      ]
    },
    {
      "cell_type": "code",
      "metadata": {
        "colab": {
          "base_uri": "https://localhost:8080/"
        },
        "id": "BR4PdE_VyXNl",
        "outputId": "0f60815e-b1c1-452b-f5e2-b0557c47006e"
      },
      "source": [
        "url = \"https://adamant.finance/\"\n",
        "\n",
        "driver = webdriver.Chrome('chromedriver',chrome_options=chrome_options)\n",
        "driver.get(url)\n",
        "SCROLL_PAUSE_TIME = 3\n",
        "\n",
        "time.sleep(10)\n",
        "\n",
        "last_height = driver.execute_script(\"return document.body.scrollHeight\")\n",
        "\n",
        "driver.get_cookies()\n",
        "import time\n",
        "while True:\n",
        "\n",
        "  driver.execute_script(\"window.scrollTo(0, document.body.scrollHeight);\")\n",
        "\n",
        "  time.sleep(SCROLL_PAUSE_TIME)\n",
        "\n",
        "  new_height = driver.execute_script(\"return document.body.scrollHeight\")\n",
        "  if new_height == last_height:\n",
        "      break\n",
        "  last_height = new_height\n",
        "page3 = driver.execute_script('return document.body.innerHTML')\n",
        "soup3 = BeautifulSoup(''.join(page3), 'html.parser')"
      ],
      "execution_count": null,
      "outputs": [
        {
          "output_type": "stream",
          "name": "stdout",
          "text": [
            "time: 16 s (started: 2021-10-09 15:19:36 +00:00)\n"
          ]
        }
      ]
    },
    {
      "cell_type": "code",
      "metadata": {
        "colab": {
          "base_uri": "https://localhost:8080/"
        },
        "id": "4wduOGmhznF6",
        "outputId": "a4f48976-f887-428a-fff3-bb129f9478fc"
      },
      "source": [
        "text_file = open(\"Soup3.txt\", \"w\")\n",
        "text_file.write(soup3.prettify())\n",
        "text_file.close()"
      ],
      "execution_count": null,
      "outputs": [
        {
          "output_type": "stream",
          "name": "stdout",
          "text": [
            "time: 108 ms (started: 2021-10-09 15:19:52 +00:00)\n"
          ]
        }
      ]
    },
    {
      "cell_type": "code",
      "metadata": {
        "colab": {
          "base_uri": "https://localhost:8080/"
        },
        "id": "yHG0HEHZcfi9",
        "outputId": "dea30aa2-23b2-487e-c755-8bbf66518d5a"
      },
      "source": [
        "web_data_adm=soup3"
      ],
      "execution_count": null,
      "outputs": [
        {
          "output_type": "stream",
          "name": "stdout",
          "text": [
            "time: 2.28 ms (started: 2021-10-09 15:19:52 +00:00)\n"
          ]
        }
      ]
    },
    {
      "cell_type": "code",
      "metadata": {
        "colab": {
          "base_uri": "https://localhost:8080/"
        },
        "id": "P6reUmCMcff9",
        "outputId": "fcccbd9c-c4b0-4f30-c3a2-f2a96d4ef82d"
      },
      "source": [
        "one_rec='farms-card-item highlight no-select clickable collapsed'\n",
        "one_rec2='farms-card-item no-select clickable collapsed'\n",
        "apr_div='rates'\n",
        "TVL_div='details total'\n",
        "pool_ada= 'farms-card-item highlight no-select clickable expanded'"
      ],
      "execution_count": null,
      "outputs": [
        {
          "output_type": "stream",
          "name": "stdout",
          "text": [
            "time: 3.01 ms (started: 2021-10-09 15:19:52 +00:00)\n"
          ]
        }
      ]
    },
    {
      "cell_type": "code",
      "metadata": {
        "colab": {
          "base_uri": "https://localhost:8080/"
        },
        "id": "UFUcVxCYcfcr",
        "outputId": "8a330064-54f8-479c-9085-f0f2636fde2c"
      },
      "source": [
        "main_list_adm1 = web_data_adm.find_all( \"div\" , class_=one_rec2)\n",
        "main_list_adm2 = web_data_adm.find_all( \"div\" , class_=one_rec)\n",
        "main_list_adm=main_list_adm1+main_list_adm2\n",
        "type(main_list_adm)"
      ],
      "execution_count": null,
      "outputs": [
        {
          "output_type": "execute_result",
          "data": {
            "text/plain": [
              "list"
            ]
          },
          "metadata": {},
          "execution_count": 25
        },
        {
          "output_type": "stream",
          "name": "stdout",
          "text": [
            "time: 150 ms (started: 2021-10-09 15:19:52 +00:00)\n"
          ]
        }
      ]
    },
    {
      "cell_type": "code",
      "metadata": {
        "colab": {
          "base_uri": "https://localhost:8080/"
        },
        "id": "R4qG6S4_clzk",
        "outputId": "f16b935d-a585-40be-e7ea-dc95233a96bb"
      },
      "source": [
        "main_list_adm[0].find( \"div\" , class_=pool_ada )"
      ],
      "execution_count": null,
      "outputs": [
        {
          "output_type": "stream",
          "name": "stdout",
          "text": [
            "time: 2.17 ms (started: 2021-10-09 15:19:52 +00:00)\n"
          ]
        }
      ]
    },
    {
      "cell_type": "code",
      "metadata": {
        "colab": {
          "base_uri": "https://localhost:8080/"
        },
        "id": "H8s5DHbHcoDv",
        "outputId": "1afdd6a0-ba62-43d5-bd69-c63bd1144a2b"
      },
      "source": [
        "import pandas as pd\n",
        "\n",
        "main_dict=[]\n",
        "for i in main_list_adm:\n",
        "  record=[]\n",
        "  record.append(i.find( \"div\" , class_='label' ).contents[0].contents[0])\n",
        "  #record.append(i.find( \"div\" , class_=TVL_div ).contents[1].contents[0])\n",
        "  record.append(i.find( \"div\" , class_=TVL_div ).find( \"span\" , class_='value' ).contents[0])\n",
        "  record.append(i.find( \"div\" , class_=apr_div ).find( \"span\" , class_='apy' ).contents[0])\n",
        "  main_dict.append(record) \n",
        "df = pd.DataFrame(main_dict, columns = ['Pool', 'TVL','APR'])\n",
        "\n",
        "df.to_excel('Adament.xlsx')"
      ],
      "execution_count": null,
      "outputs": [
        {
          "output_type": "stream",
          "name": "stdout",
          "text": [
            "time: 743 ms (started: 2021-10-09 15:19:52 +00:00)\n"
          ]
        }
      ]
    },
    {
      "cell_type": "code",
      "metadata": {
        "colab": {
          "base_uri": "https://localhost:8080/",
          "height": 35
        },
        "id": "ksBOZdzgcwa4",
        "outputId": "bf1e9099-99d9-4c4d-eb81-2699f7b55430"
      },
      "source": [
        "files.download('Adament.xlsx')"
      ],
      "execution_count": null,
      "outputs": [
        {
          "output_type": "display_data",
          "data": {
            "application/javascript": [
              "\n",
              "    async function download(id, filename, size) {\n",
              "      if (!google.colab.kernel.accessAllowed) {\n",
              "        return;\n",
              "      }\n",
              "      const div = document.createElement('div');\n",
              "      const label = document.createElement('label');\n",
              "      label.textContent = `Downloading \"${filename}\": `;\n",
              "      div.appendChild(label);\n",
              "      const progress = document.createElement('progress');\n",
              "      progress.max = size;\n",
              "      div.appendChild(progress);\n",
              "      document.body.appendChild(div);\n",
              "\n",
              "      const buffers = [];\n",
              "      let downloaded = 0;\n",
              "\n",
              "      const channel = await google.colab.kernel.comms.open(id);\n",
              "      // Send a message to notify the kernel that we're ready.\n",
              "      channel.send({})\n",
              "\n",
              "      for await (const message of channel.messages) {\n",
              "        // Send a message to notify the kernel that we're ready.\n",
              "        channel.send({})\n",
              "        if (message.buffers) {\n",
              "          for (const buffer of message.buffers) {\n",
              "            buffers.push(buffer);\n",
              "            downloaded += buffer.byteLength;\n",
              "            progress.value = downloaded;\n",
              "          }\n",
              "        }\n",
              "      }\n",
              "      const blob = new Blob(buffers, {type: 'application/binary'});\n",
              "      const a = document.createElement('a');\n",
              "      a.href = window.URL.createObjectURL(blob);\n",
              "      a.download = filename;\n",
              "      div.appendChild(a);\n",
              "      a.click();\n",
              "      div.remove();\n",
              "    }\n",
              "  "
            ],
            "text/plain": [
              "<IPython.core.display.Javascript object>"
            ]
          },
          "metadata": {}
        },
        {
          "output_type": "display_data",
          "data": {
            "application/javascript": [
              "download(\"download_c98cfedc-dc78-4e73-9b2e-6da92ec06bd4\", \"Adament.xlsx\", 14527)"
            ],
            "text/plain": [
              "<IPython.core.display.Javascript object>"
            ]
          },
          "metadata": {}
        },
        {
          "output_type": "stream",
          "name": "stdout",
          "text": [
            "time: 18.4 ms (started: 2021-10-09 15:21:00 +00:00)\n"
          ]
        }
      ]
    }
  ]
}