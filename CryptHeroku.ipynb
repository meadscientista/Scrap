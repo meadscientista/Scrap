{
  "nbformat": 4,
  "nbformat_minor": 0,
  "metadata": {
    "colab": {
      "name": "CryptHeroku.ipynb",
      "provenance": [],
      "collapsed_sections": [
        "raglB_cuZVGB",
        "l_Ylro-KZX-r",
        "Ps5tBa_zZf5V",
        "P4IiK-c8oNHT"
      ],
      "include_colab_link": true
    },
    "kernelspec": {
      "display_name": "Python 3",
      "name": "python3"
    },
    "language_info": {
      "name": "python"
    }
  },
  "cells": [
    {
      "cell_type": "markdown",
      "metadata": {
        "id": "view-in-github",
        "colab_type": "text"
      },
      "source": [
        "<a href=\"https://colab.research.google.com/github/meadscientista/Scrap/blob/main/CryptHeroku.ipynb\" target=\"_parent\"><img src=\"https://colab.research.google.com/assets/colab-badge.svg\" alt=\"Open In Colab\"/></a>"
      ]
    },
    {
      "cell_type": "markdown",
      "metadata": {
        "id": "ckVJCbuoZRHy"
      },
      "source": [
        "### Initialize"
      ]
    },
    {
      "cell_type": "code",
      "metadata": {
        "id": "PnBZI27UdIA2"
      },
      "source": [
        "!pip3 freeze > requirements.txt"
      ],
      "execution_count": 1,
      "outputs": []
    },
    {
      "cell_type": "markdown",
      "metadata": {
        "id": "E-k1IsmdZLgG"
      },
      "source": [
        "##### Installs"
      ]
    },
    {
      "cell_type": "code",
      "metadata": {
        "colab": {
          "base_uri": "https://localhost:8080/"
        },
        "id": "84BRfJFNNcd-",
        "outputId": "44db5ec9-9977-4a8c-df33-8d4c15e02a16"
      },
      "source": [
        "!pip install selenium --quiet\n",
        "!pip install ghost.py --quiet\n",
        "!apt-get update --quiet\n",
        "!pip install ipython-autotime --quiet\n",
        "!apt install chromium-chromedriver --quiet\n",
        "!cp /usr/lib/chromium-browser/chromedriver /usr/bin --quiet\n",
        "import sys \n",
        "sys.path.insert(0,'/usr/lib/chromium-browser/chromedriver')\n",
        "%load_ext autotime"
      ],
      "execution_count": null,
      "outputs": [
        {
          "output_type": "stream",
          "name": "stdout",
          "text": [
            "Hit:1 https://cloud.r-project.org/bin/linux/ubuntu bionic-cran40/ InRelease\n",
            "Ign:2 https://developer.download.nvidia.com/compute/cuda/repos/ubuntu1804/x86_64  InRelease\n",
            "Hit:3 http://security.ubuntu.com/ubuntu bionic-security InRelease\n",
            "Ign:4 https://developer.download.nvidia.com/compute/machine-learning/repos/ubuntu1804/x86_64  InRelease\n",
            "Hit:5 http://ppa.launchpad.net/c2d4u.team/c2d4u4.0+/ubuntu bionic InRelease\n",
            "Hit:6 http://archive.ubuntu.com/ubuntu bionic InRelease\n",
            "Hit:7 https://developer.download.nvidia.com/compute/cuda/repos/ubuntu1804/x86_64  Release\n",
            "Hit:8 https://developer.download.nvidia.com/compute/machine-learning/repos/ubuntu1804/x86_64  Release\n",
            "Hit:9 http://archive.ubuntu.com/ubuntu bionic-updates InRelease\n",
            "Hit:10 http://ppa.launchpad.net/cran/libgit2/ubuntu bionic InRelease\n",
            "Hit:11 http://archive.ubuntu.com/ubuntu bionic-backports InRelease\n",
            "Hit:13 http://ppa.launchpad.net/deadsnakes/ppa/ubuntu bionic InRelease\n",
            "Hit:15 http://ppa.launchpad.net/graphics-drivers/ppa/ubuntu bionic InRelease\n",
            "Reading package lists...\n",
            "Reading package lists...\n",
            "Building dependency tree...\n",
            "Reading state information...\n",
            "chromium-chromedriver is already the newest version (94.0.4606.71-0ubuntu0.18.04.1).\n",
            "0 upgraded, 0 newly installed, 0 to remove and 37 not upgraded.\n",
            "cp: unrecognized option '--quiet'\n",
            "Try 'cp --help' for more information.\n",
            "The autotime extension is already loaded. To reload it, use:\n",
            "  %reload_ext autotime\n",
            "time: 15.9 s (started: 2021-10-13 04:03:33 +00:00)\n"
          ]
        }
      ]
    },
    {
      "cell_type": "markdown",
      "metadata": {
        "id": "raglB_cuZVGB"
      },
      "source": [
        "##### Imports"
      ]
    },
    {
      "cell_type": "code",
      "metadata": {
        "colab": {
          "base_uri": "https://localhost:8080/"
        },
        "id": "wLK_0mIyNoYD",
        "outputId": "97791fac-57b5-4eb1-dfa0-d43602768021"
      },
      "source": [
        "from selenium import webdriver\n",
        "import bs4\n",
        "import requests\n",
        "from bs4 import BeautifulSoup\n",
        "import pandas as pd\n",
        "from google.colab import files\n",
        "from zipfile import ZipFile\n",
        "import warnings\n",
        "import re\n",
        "import pandas as pd\n",
        "from datetime import date\n",
        "from datetime import datetime\n",
        "import time\n",
        "warnings.filterwarnings(\"ignore\", category=DeprecationWarning)\n",
        "\n",
        "\n",
        "from selenium.common.exceptions import TimeoutException\n",
        "from selenium.webdriver.support.ui import WebDriverWait\n",
        "from selenium.webdriver.support import expected_conditions as EC\n",
        "from selenium.webdriver.common.by import By\n",
        "import time\n",
        "from selenium.webdriver.common.action_chains import ActionChains\n",
        "from selenium.webdriver.common.keys import Keys\n",
        "\n",
        "chrome_options = webdriver.ChromeOptions() \n",
        "chrome_options.add_argument('--headless')\n",
        "chrome_options.add_argument('--no-sandbox')\n",
        "chrome_options.add_argument('--disable-dev-shm-usage')"
      ],
      "execution_count": null,
      "outputs": [
        {
          "output_type": "stream",
          "name": "stdout",
          "text": [
            "time: 22.8 ms (started: 2021-10-13 04:03:49 +00:00)\n"
          ]
        }
      ]
    },
    {
      "cell_type": "markdown",
      "metadata": {
        "id": "l_Ylro-KZX-r"
      },
      "source": [
        "##### Declarations"
      ]
    },
    {
      "cell_type": "code",
      "metadata": {
        "colab": {
          "base_uri": "https://localhost:8080/"
        },
        "id": "TM4qznjwOkpW",
        "outputId": "e9e719db-b8b0-4deb-e30e-2594ad82b43e"
      },
      "source": [
        "global nerve_fail\n",
        "global sushi_fail\n",
        "global adm_fail\n",
        "nerve_fail=0\n",
        "sushi_fail=0\n",
        "adm_fail=0\n",
        "date_time_now=str(datetime.now())[:16]\n",
        "\n",
        "\n",
        "\n",
        "def delete_cache():\n",
        "    time.sleep(2)\n",
        "    driver.switch_to.window(driver.window_handles[-1])\n",
        "    time.sleep(2)\n",
        "    driver.get('chrome://settings/clearBrowserData') # for old chromedriver versions use cleardriverData\n",
        "    time.sleep(2)\n",
        "    actions = ActionChains(driver) \n",
        "    actions.send_keys(Keys.TAB * 3 + Keys.DOWN * 3) # send right combination\n",
        "    actions.perform()\n",
        "    time.sleep(2)\n",
        "    actions = ActionChains(driver) \n",
        "    actions.send_keys(Keys.TAB * 4 + Keys.ENTER) # confirm\n",
        "    actions.perform()\n",
        "    time.sleep(5) # wait some time to finish\n",
        "    driver.close() # close this tab\n",
        "    driver.quit() # switch back\n",
        "\n",
        "    \n",
        "def initialize():\n",
        "  global nerve_fail\n",
        "  global sushi_fail\n",
        "  global adm_fail\n",
        "  nerve_fail=0\n",
        "  sushi_fail=0\n",
        "  adm_fail=0\n",
        "  try:\n",
        "    delete_cache()\n",
        "  except:\n",
        "    pass\n",
        "  chrome_options = webdriver.ChromeOptions() \n",
        "  chrome_options.add_argument('--headless')\n",
        "  chrome_options.add_argument('--no-sandbox')\n",
        "  chrome_options.add_argument('--disable-dev-shm-usage')\n",
        "  driver = webdriver.Chrome('chromedriver',chrome_options=chrome_options)"
      ],
      "execution_count": null,
      "outputs": [
        {
          "output_type": "stream",
          "name": "stdout",
          "text": [
            "time: 22.6 ms (started: 2021-10-13 04:03:49 +00:00)\n"
          ]
        }
      ]
    },
    {
      "cell_type": "code",
      "metadata": {
        "id": "DCzaFSjooY6-"
      },
      "source": [
        ""
      ],
      "execution_count": null,
      "outputs": []
    },
    {
      "cell_type": "code",
      "metadata": {
        "id": "uWSRVsuuoJHF"
      },
      "source": [
        "\n"
      ],
      "execution_count": null,
      "outputs": []
    },
    {
      "cell_type": "markdown",
      "metadata": {
        "id": "Ps5tBa_zZf5V"
      },
      "source": [
        "##### Definitions"
      ]
    },
    {
      "cell_type": "code",
      "metadata": {
        "colab": {
          "base_uri": "https://localhost:8080/"
        },
        "id": "ClmyPULGZi83",
        "outputId": "c8f6be28-136f-4286-b154-d8a6b5acac4a"
      },
      "source": [
        "def nerve_fi():\n",
        "  print(\"Started Nerve Fi\")\n",
        "  url = \"https://nerve.fi/pools\"\n",
        "  global nerve_fail\n",
        "  try:\n",
        "    print(\"Running\")\n",
        "    SCROLL_PAUSE_TIME = 3\n",
        "    driver = webdriver.Chrome('chromedriver',chrome_options=chrome_options)\n",
        "    driver.get(url)\n",
        "    time.sleep(10)\n",
        "    \n",
        "    WebDriverWait(driver, SCROLL_PAUSE_TIME)\n",
        "    last_height = driver.execute_script(\"return document.body.scrollHeight\")\n",
        "\n",
        "    while True:\n",
        "\n",
        "      driver.execute_script(\"window.scrollTo(0, document.body.scrollHeight);\")\n",
        "\n",
        "      time.sleep(SCROLL_PAUSE_TIME)\n",
        "\n",
        "      new_height = driver.execute_script(\"return document.body.scrollHeight\")\n",
        "      if new_height == last_height:\n",
        "          break\n",
        "      last_height = new_height\n",
        "    page1 = driver.execute_script('return document.body.innerHTML')\n",
        "    soup1 = BeautifulSoup(''.join(page1), 'html.parser')\n",
        "\n",
        "    text_file = open(\"Soup1.txt\", \"w\")\n",
        "    text_file.write(soup1.prettify())\n",
        "    text_file.close()\n",
        "    web_data=soup1\n",
        "    web_data_moded=web_data\n",
        "    pool_name='font-medium text-lg mb-2 undefined'\n",
        "    liqu='mt-2.5 text-xl font-medium text-default'\n",
        "    fixed='bg-white shadow-lg pt-3 px-6 pb-6 rounded-lg py-4 mt-4 items-center pr-2 shadow'\n",
        "    #re.sub('bg-white shadow-lg pt-3 px-6 pb-6 rounded-lg py-4 mt-4 items-center pr-2 shadow(.*?)>', fixed, web_data_moded)\n",
        "    remlist=re.findall('bg-white shadow-lg pt-3 px-6 pb-6 rounded-lg py-4 mt-4 items-center pr-2 shadow(.*?)>', str(web_data_moded))\n",
        "    web_data_moded2=web_data_moded\n",
        "    for i in remlist:\n",
        "      web_data_moded2=str(web_data_moded2).replace(i,'\"')\n",
        "    web_data_mod=BeautifulSoup(web_data_moded2)\n",
        "    main_list=web_data_mod.find_all( \"div\" , class_=fixed)\n",
        "    main_dict=[]\n",
        "    for i in main_list:\n",
        "      record=[]\n",
        "      record.append(i.find( \"div\" , class_=pool_name ).contents[0])\n",
        "      record.append(i.find_all( \"div\" , class_=liqu )[0].contents[0])\n",
        "      record.append(i.find_all( \"div\" , class_=liqu )[1].contents[0])\n",
        "      main_dict.append(record) \n",
        "    df = pd.DataFrame(main_dict, columns = ['Pool', 'TVL','APR'])\n",
        "    df.to_csv('Nerve_Fi.csv')\n",
        "    print(\"Extracted in \",nerve_fail+1,\"attempts\")\n",
        "    print(\"Extracted \",len(df),\" records\")\n",
        "\n",
        "  except:\n",
        "    nerve_fail=nerve_fail+1\n",
        "    print('Failed ',nerve_fail,' times')\n",
        "    try:\n",
        "      initialize()\n",
        "    except:\n",
        "      pass\n",
        "    if nerve_fail<4:\n",
        "      nerve_fi()\n",
        "    else:\n",
        "      print('Error in Nerve.Fi')\n",
        "      exit()\n",
        "\n",
        "      \n",
        "\n",
        "\n",
        "  return df"
      ],
      "execution_count": null,
      "outputs": [
        {
          "output_type": "stream",
          "name": "stdout",
          "text": [
            "time: 62.4 ms (started: 2021-10-13 04:03:49 +00:00)\n"
          ]
        }
      ]
    },
    {
      "cell_type": "code",
      "metadata": {
        "colab": {
          "base_uri": "https://localhost:8080/"
        },
        "id": "fKx-APrlZn-B",
        "outputId": "d0489ca0-3f2d-4b86-b91d-a5ff41c7d09e"
      },
      "source": [
        "def sushi_farm():\n",
        "  url = \"https://app.sushi.com/farm\"\n",
        "  SCROLL_PAUSE_TIME = 3\n",
        "  global sushi_fail\n",
        "  print('Started Sushi')\n",
        "   \n",
        "  try:\n",
        "    print('Running Sushi')\n",
        "    driver = webdriver.Chrome('chromedriver',chrome_options=chrome_options)\n",
        "    driver.get(url)\n",
        "\n",
        "    time.sleep(10)\n",
        "    last_height = driver.execute_script(\"return document.body.scrollHeight\")\n",
        "    #last_height= 0\n",
        "\n",
        "    while True:\n",
        "\n",
        "      driver.execute_script(\"window.scrollTo(0, document.body.scrollHeight);\")\n",
        "\n",
        "      time.sleep(SCROLL_PAUSE_TIME)\n",
        "\n",
        "      new_height = driver.execute_script(\"return document.body.scrollHeight\")\n",
        "      #print(new_height)\n",
        "      if new_height == last_height:\n",
        "          break\n",
        "      last_height = new_height\n",
        "    page2 = driver.execute_script('return document.body.innerHTML')\n",
        "    soup2 = BeautifulSoup(''.join(page2), 'html.parser')\n",
        "\n",
        "    text_file = open(\"Soup2.txt\", \"w\")\n",
        "    text_file.write(soup2.prettify())\n",
        "    text_file.close()\n",
        "\n",
        "    web_data_sushi=soup2\n",
        "    one_rec='w-full px-4 py-6 text-left rounded cursor-pointer select-none bg-dark-900 text-primary text-sm md:text-lg'\n",
        "    apr_div='flex flex-row items-center font-bold text-right text-high-emphesis'\n",
        "    TVL_div='flex flex-col justify-center font-bold'\n",
        "    pool_sushi= 'flex flex-col justify-center'\n",
        "\n",
        "    main_list_sushi = web_data_sushi.find_all( \"button\" , class_=one_rec)\n",
        "\n",
        "    main_dict=[]\n",
        "    for i in main_list_sushi:\n",
        "      record=[]\n",
        "      lsi=i.find( \"div\" , class_=pool_sushi ).contents[0]\n",
        "      record.append(lsi.contents[0].contents[0]+lsi.contents[1]+lsi.contents[2].contents[0])\n",
        "      record.append(i.find( \"div\" , class_=TVL_div ).contents[0])\n",
        "      record.append(i.find( \"div\" , class_=apr_div ).contents[0])\n",
        "      main_dict.append(record) \n",
        "    df = pd.DataFrame(main_dict, columns = ['Pool', 'TVL','APR'])\n",
        "    df.to_csv('SushiFarm.csv')\n",
        "    print(\"Extracted in \",sushi_fail+1,\"attempts\")\n",
        "    print(\"Extracted \",len(df),\" records\")\n",
        "    return df\n",
        "  except:\n",
        "\n",
        "    sushi_fail=sushi_fail+1\n",
        "    print('Failed ',sushi_fail,' times')\n",
        "    try:\n",
        "      initialize()\n",
        "\n",
        "    except:\n",
        "      pass\n",
        "\n",
        "    if sushi_fail<5:\n",
        "      sushi_farm()\n",
        "    else:\n",
        "      print('Error in Sushi Farm')\n",
        "      exit()\n",
        "  return df"
      ],
      "execution_count": null,
      "outputs": [
        {
          "output_type": "stream",
          "name": "stdout",
          "text": [
            "time: 41.1 ms (started: 2021-10-13 04:03:49 +00:00)\n"
          ]
        }
      ]
    },
    {
      "cell_type": "code",
      "metadata": {
        "colab": {
          "base_uri": "https://localhost:8080/"
        },
        "id": "jnZOU-C3ZyIc",
        "outputId": "693b1650-c744-4a2a-a0ff-faddcaf0e7fa"
      },
      "source": [
        "def adamant():\n",
        "  print(\"Started Adamant\")\n",
        "  url = \"https://adamant.finance/\"\n",
        "  import time\n",
        "  global adm_fail\n",
        "  try:    \n",
        "    driver = webdriver.Chrome('chromedriver',chrome_options=chrome_options)\n",
        "    driver.get(url)\n",
        "    SCROLL_PAUSE_TIME = 3\n",
        "\n",
        "    time.sleep(10)\n",
        "\n",
        "    last_height = driver.execute_script(\"return document.body.scrollHeight\")\n",
        "\n",
        "    driver.get_cookies()\n",
        "    while True:\n",
        "\n",
        "      driver.execute_script(\"window.scrollTo(0, document.body.scrollHeight);\")\n",
        "\n",
        "      time.sleep(SCROLL_PAUSE_TIME)\n",
        "\n",
        "      new_height = driver.execute_script(\"return document.body.scrollHeight\")\n",
        "      if new_height == last_height:\n",
        "          break\n",
        "      last_height = new_height\n",
        "    page3 = driver.execute_script('return document.body.innerHTML')\n",
        "    soup3 = BeautifulSoup(''.join(page3), 'html.parser')\n",
        "\n",
        "    text_file = open(\"Soup3.txt\", \"w\")\n",
        "    text_file.write(soup3.prettify())\n",
        "    text_file.close()\n",
        "    web_data_adm=soup3\n",
        "    one_rec='farms-card-item highlight no-select clickable collapsed'\n",
        "    one_rec2='farms-card-item no-select clickable collapsed'\n",
        "    apr_div='rates'\n",
        "    TVL_div='details total'\n",
        "    pool_ada= 'farms-card-item highlight no-select clickable expanded'\n",
        "    main_list_adm1 = web_data_adm.find_all( \"div\" , class_=one_rec2)\n",
        "    main_list_adm2 = web_data_adm.find_all( \"div\" , class_=one_rec)\n",
        "    main_list_adm=main_list_adm1+main_list_adm2\n",
        "    main_list_adm[0].find( \"div\" , class_=pool_ada )\n",
        "    main_dict=[]\n",
        "\n",
        "    for i in main_list_adm:\n",
        "      record=[]\n",
        "      record.append(i.find( \"div\" , class_='label' ).contents[0].contents[0])\n",
        "      #record.append(i.find( \"div\" , class_=TVL_div ).contents[1].contents[0])\n",
        "      record.append(i.find( \"div\" , class_=TVL_div ).find( \"span\" , class_='value' ).contents[0])\n",
        "      record.append(i.find( \"div\" , class_=apr_div ).find( \"span\" , class_='apy' ).contents[0])\n",
        "      main_dict.append(record) \n",
        "    df = pd.DataFrame(main_dict, columns = ['Pool', 'TVL','APR'])\n",
        "\n",
        "    df.to_excel('Adament.xlsx')\n",
        "    return df\n",
        "    print(\"Extracted in \",adm_fail+1,\"attempts\")\n",
        "    \n",
        "\n",
        "  except:\n",
        "    adm_fail=adm_fail+1\n",
        "    print('Failed ',adm_fail,' times')\n",
        "    try:\n",
        "      initialize()\n",
        "      \n",
        "    except:\n",
        "      pass\n",
        "    if adm_fail<4:\n",
        "      adamant()\n",
        "    else:\n",
        "      print('Error in Adamant')\n",
        "      exit()\n",
        "\n",
        "      \n",
        "\n",
        "\n",
        "  return df"
      ],
      "execution_count": null,
      "outputs": [
        {
          "output_type": "stream",
          "name": "stdout",
          "text": [
            "time: 52.7 ms (started: 2021-10-13 04:03:49 +00:00)\n"
          ]
        }
      ]
    },
    {
      "cell_type": "code",
      "metadata": {
        "colab": {
          "base_uri": "https://localhost:8080/"
        },
        "id": "MjsB6kVCf6CY",
        "outputId": "5b99184d-0dde-483e-bf94-4471c3c52020"
      },
      "source": [
        "def All_Crypto():\n",
        "  All_websites = pd.DataFrame(columns = ['Pool', 'TVL','APR','source'])\n",
        "\n",
        "  try:\n",
        "    print('Nerve Try 1')\n",
        "    op=nerve_fi()\n",
        "    Nerve_File='Nerve Fi '+date_time_now+'.xlsx'\n",
        "    op.to_excel(Nerve_File)\n",
        "    Nerve_df=op.assign(source='Nerve.fi')\n",
        "    All_websites=All_websites.append(Nerve_df)\n",
        "    print(Nerve_df)\n",
        "    \n",
        "  except:\n",
        "    try:\n",
        "      initialize()\n",
        "    except:\n",
        "      try:\n",
        "        print('Nerve Try 2')\n",
        "        op=nerve_fi()\n",
        "        Nerve_File='Nerve Fi '+date_time_now+'.xlsx'\n",
        "        op.to_excel(Nerve_File)\n",
        "        Nerve_df=op.assign(source='Nerve.fi')\n",
        "        All_websites=All_websites.append(Nerve_df)\n",
        "      except:\n",
        "        print('Failed to Extract Nerve.Fi')\n",
        "\n",
        "  try:\n",
        "    print('Sushi Try 1')\n",
        "    op2=sushi_farm()\n",
        "    print('Extracted Sushi ')\n",
        "    Sushi_File='Sushi Farm '+date_time_now+'.xlsx'\n",
        "    op2.to_excel(Sushi_File)\n",
        "    Sushi_df=op2.assign(source='Sushi')\n",
        "    print('Appended Sushi ')\n",
        "    All_websites=All_websites.append(Sushi_df)\n",
        "    print(Sushi_df)\n",
        "\n",
        "  except:\n",
        "    try:\n",
        "      initialize()\n",
        "    except:\n",
        "      try:\n",
        "        print('Sushi Try 2')\n",
        "        op2=sushi_farm()\n",
        "        Sushi_File='Sushi Farm '+date_time_now+'.xlsx'\n",
        "        op2.to_excel(Sushi_File)\n",
        "        Sushi_df=op2.assign(source='Sushi Farm')\n",
        "        All_websites=All_websites.append(Sushi_df)\n",
        "        print(Sushi_df)\n",
        "      except:\n",
        "        print('Failed to Extract Sushi Farm')\n",
        "  \n",
        "  \n",
        "  \n",
        "  try:\n",
        "    print('Adamant Try 1')\n",
        "    op3=adamant()\n",
        "    Adm_File='Adamant '+date_time_now+'.xlsx'\n",
        "    op3.to_excel(Adm_File)\n",
        "    Adamant_df=op3.assign(source='Adamant')\n",
        "    All_websites=All_websites.append(Adamant_df)\n",
        "    print(Adamant_df)\n",
        "  except:\n",
        "    try:\n",
        "      initialize()\n",
        "    except:\n",
        "      try:\n",
        "        print('Adamant Try 2')\n",
        "        op3=adamant()\n",
        "        Adm_File='Adamant '+date_time_now+'.xlsx'\n",
        "        op3.to_excel(Adm_File)\n",
        "        Adamant_df=op3.assign(source='Adamant')\n",
        "        All_websites=All_websites.append(Adamant_df)\n",
        "        print(Adamant_df)\n",
        "      except:\n",
        "        print('Failed to Extract Adamant')\n",
        "  \n",
        "  return All_websites\n"
      ],
      "execution_count": null,
      "outputs": [
        {
          "output_type": "stream",
          "name": "stdout",
          "text": [
            "time: 43.9 ms (started: 2021-10-13 04:03:49 +00:00)\n"
          ]
        }
      ]
    },
    {
      "cell_type": "markdown",
      "metadata": {
        "id": "P4IiK-c8oNHT"
      },
      "source": [
        "### Execution"
      ]
    },
    {
      "cell_type": "code",
      "metadata": {
        "colab": {
          "base_uri": "https://localhost:8080/"
        },
        "id": "T34zVCftd0lh",
        "outputId": "c3745d1b-45d6-4d22-8c00-78b3022d6efa"
      },
      "source": [
        "All_Websites_df=All_Crypto()\n",
        "Full_Data='Full Crypto '+date_time_now+'.xlsx'"
      ],
      "execution_count": null,
      "outputs": [
        {
          "output_type": "stream",
          "name": "stdout",
          "text": [
            "Nerve Try 1\n",
            "Started Nerve Fi\n",
            "Running\n",
            "Failed  1  times\n",
            "Started Nerve Fi\n",
            "Running\n",
            "Failed  1  times\n",
            "Started Nerve Fi\n",
            "Running\n",
            "Failed  1  times\n",
            "Started Nerve Fi\n",
            "Running\n",
            "Extracted in  1 attempts\n",
            "Extracted  6  records\n",
            "Sushi Try 1\n",
            "Started Sushi\n",
            "Running Sushi\n",
            "Failed  1  times\n",
            "Started Sushi\n",
            "Running Sushi\n",
            "Extracted in  1 attempts\n",
            "Extracted  222  records\n",
            "Adamant Try 1\n",
            "Started Adamant\n",
            "               Pool             TVL              APR   source\n",
            "0      USDT/USDC LP   $4,036,675.45      14.58% APY   Adamant\n",
            "1      WBTC/WETH LP   $3,376,556.36      17.65% APY   Adamant\n",
            "2    RENBTC/WBTC LP   $3,265,834.96       8.72% APY   Adamant\n",
            "3       MAI/USDT LP   $2,733,912.24      27.51% APY   Adamant\n",
            "4       MAI/USDC LP   $2,321,903.80      20.09% APY   Adamant\n",
            "..              ...             ...              ...      ...\n",
            "248    DNXC/USDC LP          $19.79     699.52% APY   Adamant\n",
            "249     WOW/USDC LP          $18.70      54.73% APY   Adamant\n",
            "250     TEL/WETH LP           $8.91      44.22% APY   Adamant\n",
            "251  KNIGHT/WETH LP           $8.76      66.06% APY   Adamant\n",
            "252    ADDY/WETH LP  $11,872,627.81  523.20% Max APY  Adamant\n",
            "\n",
            "[253 rows x 4 columns]\n",
            "time: 4min 12s (started: 2021-10-13 04:20:21 +00:00)\n"
          ]
        }
      ]
    },
    {
      "cell_type": "code",
      "metadata": {
        "colab": {
          "base_uri": "https://localhost:8080/",
          "height": 723
        },
        "id": "tSOuHILgjV1G",
        "outputId": "8677354e-3a2a-47ba-e0e8-20221fa8ce3b"
      },
      "source": [
        "All_Websites_df.to_excel(Full_Data)\n",
        "All_Websites_df"
      ],
      "execution_count": null,
      "outputs": [
        {
          "output_type": "execute_result",
          "data": {
            "text/html": [
              "<div>\n",
              "<style scoped>\n",
              "    .dataframe tbody tr th:only-of-type {\n",
              "        vertical-align: middle;\n",
              "    }\n",
              "\n",
              "    .dataframe tbody tr th {\n",
              "        vertical-align: top;\n",
              "    }\n",
              "\n",
              "    .dataframe thead th {\n",
              "        text-align: right;\n",
              "    }\n",
              "</style>\n",
              "<table border=\"1\" class=\"dataframe\">\n",
              "  <thead>\n",
              "    <tr style=\"text-align: right;\">\n",
              "      <th></th>\n",
              "      <th>Pool</th>\n",
              "      <th>TVL</th>\n",
              "      <th>APR</th>\n",
              "      <th>source</th>\n",
              "    </tr>\n",
              "  </thead>\n",
              "  <tbody>\n",
              "    <tr>\n",
              "      <th>0</th>\n",
              "      <td>USDT/USDC LP</td>\n",
              "      <td>$4,036,675.45</td>\n",
              "      <td>14.58% APY</td>\n",
              "      <td>Adamant</td>\n",
              "    </tr>\n",
              "    <tr>\n",
              "      <th>1</th>\n",
              "      <td>WBTC/WETH LP</td>\n",
              "      <td>$3,376,556.36</td>\n",
              "      <td>17.65% APY</td>\n",
              "      <td>Adamant</td>\n",
              "    </tr>\n",
              "    <tr>\n",
              "      <th>2</th>\n",
              "      <td>RENBTC/WBTC LP</td>\n",
              "      <td>$3,265,834.96</td>\n",
              "      <td>8.72% APY</td>\n",
              "      <td>Adamant</td>\n",
              "    </tr>\n",
              "    <tr>\n",
              "      <th>3</th>\n",
              "      <td>MAI/USDT LP</td>\n",
              "      <td>$2,733,912.24</td>\n",
              "      <td>27.51% APY</td>\n",
              "      <td>Adamant</td>\n",
              "    </tr>\n",
              "    <tr>\n",
              "      <th>4</th>\n",
              "      <td>MAI/USDC LP</td>\n",
              "      <td>$2,321,903.80</td>\n",
              "      <td>20.09% APY</td>\n",
              "      <td>Adamant</td>\n",
              "    </tr>\n",
              "    <tr>\n",
              "      <th>...</th>\n",
              "      <td>...</td>\n",
              "      <td>...</td>\n",
              "      <td>...</td>\n",
              "      <td>...</td>\n",
              "    </tr>\n",
              "    <tr>\n",
              "      <th>248</th>\n",
              "      <td>DNXC/USDC LP</td>\n",
              "      <td>$19.79</td>\n",
              "      <td>699.52% APY</td>\n",
              "      <td>Adamant</td>\n",
              "    </tr>\n",
              "    <tr>\n",
              "      <th>249</th>\n",
              "      <td>WOW/USDC LP</td>\n",
              "      <td>$18.70</td>\n",
              "      <td>54.73% APY</td>\n",
              "      <td>Adamant</td>\n",
              "    </tr>\n",
              "    <tr>\n",
              "      <th>250</th>\n",
              "      <td>TEL/WETH LP</td>\n",
              "      <td>$8.91</td>\n",
              "      <td>44.22% APY</td>\n",
              "      <td>Adamant</td>\n",
              "    </tr>\n",
              "    <tr>\n",
              "      <th>251</th>\n",
              "      <td>KNIGHT/WETH LP</td>\n",
              "      <td>$8.76</td>\n",
              "      <td>66.06% APY</td>\n",
              "      <td>Adamant</td>\n",
              "    </tr>\n",
              "    <tr>\n",
              "      <th>252</th>\n",
              "      <td>ADDY/WETH LP</td>\n",
              "      <td>$11,872,627.81</td>\n",
              "      <td>523.20% Max APY</td>\n",
              "      <td>Adamant</td>\n",
              "    </tr>\n",
              "  </tbody>\n",
              "</table>\n",
              "<p>253 rows × 4 columns</p>\n",
              "</div>"
            ],
            "text/plain": [
              "               Pool             TVL              APR   source\n",
              "0      USDT/USDC LP   $4,036,675.45      14.58% APY   Adamant\n",
              "1      WBTC/WETH LP   $3,376,556.36      17.65% APY   Adamant\n",
              "2    RENBTC/WBTC LP   $3,265,834.96       8.72% APY   Adamant\n",
              "3       MAI/USDT LP   $2,733,912.24      27.51% APY   Adamant\n",
              "4       MAI/USDC LP   $2,321,903.80      20.09% APY   Adamant\n",
              "..              ...             ...              ...      ...\n",
              "248    DNXC/USDC LP          $19.79     699.52% APY   Adamant\n",
              "249     WOW/USDC LP          $18.70      54.73% APY   Adamant\n",
              "250     TEL/WETH LP           $8.91      44.22% APY   Adamant\n",
              "251  KNIGHT/WETH LP           $8.76      66.06% APY   Adamant\n",
              "252    ADDY/WETH LP  $11,872,627.81  523.20% Max APY  Adamant\n",
              "\n",
              "[253 rows x 4 columns]"
            ]
          },
          "metadata": {},
          "execution_count": 19
        },
        {
          "output_type": "stream",
          "name": "stdout",
          "text": [
            "time: 117 ms (started: 2021-10-13 04:24:34 +00:00)\n"
          ]
        }
      ]
    },
    {
      "cell_type": "code",
      "metadata": {
        "colab": {
          "base_uri": "https://localhost:8080/",
          "height": 55
        },
        "id": "0nkl-uC_ueX7",
        "outputId": "4bb35243-5705-4ff0-fe8e-107adf0d8bd9"
      },
      "source": [
        "files.download(Full_Data)"
      ],
      "execution_count": null,
      "outputs": [
        {
          "output_type": "display_data",
          "data": {
            "application/javascript": [
              "\n",
              "    async function download(id, filename, size) {\n",
              "      if (!google.colab.kernel.accessAllowed) {\n",
              "        return;\n",
              "      }\n",
              "      const div = document.createElement('div');\n",
              "      const label = document.createElement('label');\n",
              "      label.textContent = `Downloading \"${filename}\": `;\n",
              "      div.appendChild(label);\n",
              "      const progress = document.createElement('progress');\n",
              "      progress.max = size;\n",
              "      div.appendChild(progress);\n",
              "      document.body.appendChild(div);\n",
              "\n",
              "      const buffers = [];\n",
              "      let downloaded = 0;\n",
              "\n",
              "      const channel = await google.colab.kernel.comms.open(id);\n",
              "      // Send a message to notify the kernel that we're ready.\n",
              "      channel.send({})\n",
              "\n",
              "      for await (const message of channel.messages) {\n",
              "        // Send a message to notify the kernel that we're ready.\n",
              "        channel.send({})\n",
              "        if (message.buffers) {\n",
              "          for (const buffer of message.buffers) {\n",
              "            buffers.push(buffer);\n",
              "            downloaded += buffer.byteLength;\n",
              "            progress.value = downloaded;\n",
              "          }\n",
              "        }\n",
              "      }\n",
              "      const blob = new Blob(buffers, {type: 'application/binary'});\n",
              "      const a = document.createElement('a');\n",
              "      a.href = window.URL.createObjectURL(blob);\n",
              "      a.download = filename;\n",
              "      div.appendChild(a);\n",
              "      a.click();\n",
              "      div.remove();\n",
              "    }\n",
              "  "
            ],
            "text/plain": [
              "<IPython.core.display.Javascript object>"
            ]
          },
          "metadata": {}
        },
        {
          "output_type": "display_data",
          "data": {
            "application/javascript": [
              "download(\"download_792209a1-16aa-4940-ac5f-26a9d258b791\", \"Full Crypto 2021-10-13 04:03.xlsx\", 15303)"
            ],
            "text/plain": [
              "<IPython.core.display.Javascript object>"
            ]
          },
          "metadata": {}
        },
        {
          "output_type": "stream",
          "name": "stdout",
          "text": [
            "time: 9.4 ms (started: 2021-10-13 04:24:34 +00:00)\n"
          ]
        }
      ]
    },
    {
      "cell_type": "code",
      "metadata": {
        "id": "lssqFV3oUe_o"
      },
      "source": [
        ""
      ],
      "execution_count": null,
      "outputs": []
    }
  ]
}